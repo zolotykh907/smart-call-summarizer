{
 "cells": [
  {
   "cell_type": "code",
   "execution_count": 1,
   "id": "5861d4a6",
   "metadata": {},
   "outputs": [],
   "source": [
    "from src.speech_recognition import SpeechRecognizer\n",
    "from src.speaker_identifier import SpeakerIdentifier"
   ]
  },
  {
   "cell_type": "code",
   "execution_count": 2,
   "id": "d2ed562a",
   "metadata": {},
   "outputs": [
    {
     "name": "stderr",
     "output_type": "stream",
     "text": [
      "/Users/igorzolotyh/smart-call-summarizer/.venv/lib/python3.12/site-packages/whisper/transcribe.py:132: UserWarning: FP16 is not supported on CPU; using FP32 instead\n",
      "  warnings.warn(\"FP16 is not supported on CPU; using FP32 instead\")\n"
     ]
    }
   ],
   "source": [
    "sr = SpeechRecognizer()\n",
    "res = sr.speech_to_text('data/4.wav')"
   ]
  },
  {
   "cell_type": "code",
   "execution_count": 3,
   "id": "51d821b9",
   "metadata": {},
   "outputs": [
    {
     "data": {
      "text/plain": [
       "{'text': ' Здравствуйте! Как у вас дела? Здравствуйте! Все хорошо! Понял, хорошо. До свидания! До свидания!',\n",
       " 'segments': [{'id': 0,\n",
       "   'start': 0.0,\n",
       "   'end': 2.56,\n",
       "   'text': ' Здравствуйте! Как у вас дела?'},\n",
       "  {'id': 1,\n",
       "   'start': 2.56,\n",
       "   'end': 4.5600000000000005,\n",
       "   'text': ' Здравствуйте! Все хорошо!'},\n",
       "  {'id': 2,\n",
       "   'start': 4.5600000000000005,\n",
       "   'end': 7.0600000000000005,\n",
       "   'text': ' Понял, хорошо. До свидания!'},\n",
       "  {'id': 3,\n",
       "   'start': 7.0600000000000005,\n",
       "   'end': 8.06,\n",
       "   'text': ' До свидания!'}]}"
      ]
     },
     "execution_count": 3,
     "metadata": {},
     "output_type": "execute_result"
    }
   ],
   "source": [
    "res"
   ]
  },
  {
   "cell_type": "code",
   "execution_count": null,
   "id": "ad6b1fbd",
   "metadata": {},
   "outputs": [
    {
     "name": "stdout",
     "output_type": "stream",
     "text": [
      "{'id': 0, 'start': 0.0, 'end': 2.56, 'text': ' Здравствуйте! Как у вас дела?'}\n",
      "{'id': 1, 'start': 2.56, 'end': 4.5600000000000005, 'text': ' Здравствуйте! Все хорошо!'}\n",
      "{'id': 2, 'start': 4.5600000000000005, 'end': 7.0600000000000005, 'text': ' Понял, хорошо. До свидания!'}\n",
      "{'id': 3, 'start': 7.0600000000000005, 'end': 8.06, 'text': ' До свидания!'}\n"
     ]
    }
   ],
   "source": [
    "for segment in res['segments']:\n",
    "    keys = ['id', 'start', 'end', 'text']\n",
    "    seg = {key: segment[key] for key in keys}\n",
    "    print(seg)"
   ]
  },
  {
   "cell_type": "code",
   "execution_count": null,
   "id": "c0018602",
   "metadata": {},
   "outputs": [],
   "source": [
    "si = SpeakerIdentifier()\n",
    "a = si.identify_speakers('data/4.wav')\n",
    "segments_info = si.get_segments_info(a)"
   ]
  },
  {
   "cell_type": "code",
   "execution_count": 6,
   "id": "97ce2818",
   "metadata": {},
   "outputs": [
    {
     "data": {
      "text/plain": [
       "[{'speaker': 'SPEAKER_00', 'start': 0.65534375, 'end': 2.41034375},\n",
       " {'speaker': 'SPEAKER_01', 'start': 2.61284375, 'end': 4.4353437499999995},\n",
       " {'speaker': 'SPEAKER_00', 'start': 5.228468750000001, 'end': 6.98346875},\n",
       " {'speaker': 'SPEAKER_01',\n",
       "  'start': 7.388468750000001,\n",
       "  'end': 7.945343750000001}]"
      ]
     },
     "execution_count": 6,
     "metadata": {},
     "output_type": "execute_result"
    }
   ],
   "source": [
    "segments_info"
   ]
  },
  {
   "cell_type": "code",
   "execution_count": 13,
   "id": "f4ca3a00",
   "metadata": {},
   "outputs": [
    {
     "name": "stdout",
     "output_type": "stream",
     "text": [
      "1.755\n",
      "1.8224999999999993\n",
      "1.754999999999999\n",
      "0.5568749999999998\n"
     ]
    },
    {
     "data": {
      "text/plain": [
       "[{'s': 'SPEAKER_00',\n",
       "  'text': ' Здравствуйте! Как у вас дела?',\n",
       "  'start': 0.65534375,\n",
       "  'end': 2.41034375},\n",
       " {'s': 'SPEAKER_01',\n",
       "  'text': ' Здравствуйте! Все хорошо!',\n",
       "  'start': 2.61284375,\n",
       "  'end': 4.4353437499999995},\n",
       " {'s': 'SPEAKER_00',\n",
       "  'text': ' Понял, хорошо. До свидания!',\n",
       "  'start': 5.228468750000001,\n",
       "  'end': 6.98346875},\n",
       " {'s': 'SPEAKER_01',\n",
       "  'text': ' До свидания!',\n",
       "  'start': 7.388468750000001,\n",
       "  'end': 7.945343750000001}]"
      ]
     },
     "execution_count": 13,
     "metadata": {},
     "output_type": "execute_result"
    }
   ],
   "source": [
    "arr = []\n",
    "for segment in res['segments']:\n",
    "    s1, e1 = segment['start'], segment['end']\n",
    "    text = segment['text']\n",
    "\n",
    "    for segment_info in segments_info:\n",
    "        s2, e2 = segment_info['start'], segment_info['end']\n",
    "\n",
    "        if s2 >= s1 and e2 <= e1:\n",
    "            print(e2-s2)\n",
    "            arr.append({'s': segment_info['speaker'], \n",
    "                        'text': text,\n",
    "                        'start': s2,\n",
    "                        'end': e2})\n",
    "        \n",
    "\n",
    "arr"
   ]
  },
  {
   "cell_type": "code",
   "execution_count": 14,
   "id": "b1a73b54",
   "metadata": {},
   "outputs": [
    {
     "name": "stdout",
     "output_type": "stream",
     "text": [
      "(<Segment(0.655344, 2.39347)>, 'A')\n"
     ]
    }
   ],
   "source": [
    "print(list(res.itertracks())[0])"
   ]
  },
  {
   "cell_type": "code",
   "execution_count": null,
   "id": "7bd55bfa",
   "metadata": {},
   "outputs": [
    {
     "name": "stdout",
     "output_type": "stream",
     "text": [
      "0.65534375 2.3934687500000003\n",
      "2.61284375 4.4353437499999995\n",
      "5.228468750000001 6.98346875\n",
      "7.388468750000001 7.945343750000001\n"
     ]
    }
   ],
   "source": [
    "for s in res.itersegments():\n",
    "    print(s)\n",
    "    print(s.start, s.end)"
   ]
  },
  {
   "cell_type": "code",
   "execution_count": 19,
   "id": "425ab338",
   "metadata": {},
   "outputs": [
    {
     "name": "stdout",
     "output_type": "stream",
     "text": [
      "[ 00:00:00.655 -->  00:00:02.393] A SPEAKER_00\n",
      "[ 00:00:02.612 -->  00:00:04.435] B SPEAKER_01\n",
      "[ 00:00:05.228 -->  00:00:06.983] C SPEAKER_00\n",
      "[ 00:00:07.388 -->  00:00:07.945] D SPEAKER_01\n"
     ]
    }
   ],
   "source": [
    "for segment, track, label in res.itertracks(yield_label=True):\n",
    "    print(segment, track, label)"
   ]
  }
 ],
 "metadata": {
  "kernelspec": {
   "display_name": ".venv",
   "language": "python",
   "name": "python3"
  },
  "language_info": {
   "codemirror_mode": {
    "name": "ipython",
    "version": 3
   },
   "file_extension": ".py",
   "mimetype": "text/x-python",
   "name": "python",
   "nbconvert_exporter": "python",
   "pygments_lexer": "ipython3",
   "version": "3.12.9"
  }
 },
 "nbformat": 4,
 "nbformat_minor": 5
}
