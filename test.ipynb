{
 "cells": [
  {
   "cell_type": "code",
   "execution_count": null,
   "id": "135dac89",
   "metadata": {},
   "outputs": [
    {
     "name": "stderr",
     "output_type": "stream",
     "text": [
      "/opt/anaconda3/envs/safevision/lib/python3.10/site-packages/tqdm/auto.py:21: TqdmWarning: IProgress not found. Please update jupyter and ipywidgets. See https://ipywidgets.readthedocs.io/en/stable/user_install.html\n",
      "  from .autonotebook import tqdm as notebook_tqdm\n"
     ]
    }
   ],
   "source": [
    "import logging\n",
    "\n",
    "from pyannote.audio import Pipeline\n",
    "from pyannote.audio.pipelines.utils.hook import ProgressHook\n",
    "from pyannote.core.timeline import Timeline\n",
    "\n",
    "\n",
    "class SpeakerIdentifier:\n",
    "    def __init__(self):\n",
    "        self.hf_token = ' '\n",
    "        self.model_name = \"pyannote/speaker-diarization-3.1\"\n",
    "        self.min_speakers = 1\n",
    "        self.max_speakers = 5\n",
    "        self.pipeline = None\n",
    "\n",
    "        self._load_pipeline()\n",
    "\n",
    "    def _load_pipeline(self):\n",
    "        try:\n",
    "            logging.info(f\"Loading speaker diarization model ({self.model_name})\")\n",
    "            self.pipeline = Pipeline.from_pretrained(self.model_name,\n",
    "                                                use_auth_token=self.hf_token)\n",
    "        except Exception as e:\n",
    "            logging.error(f\"Failed to load model: {e}\")\n",
    "            raise\n",
    "\n",
    "    def identify_speakers(self, audio_file):\n",
    "        with ProgressHook() as hook:\n",
    "            diarization = self.pipeline(audio_file, \n",
    "                                        hook=hook,\n",
    "                                        min_speakers=self.min_speakers, \n",
    "                                        max_speakers=self.max_speakers)\n",
    "        return diarization"
   ]
  },
  {
   "cell_type": "code",
   "execution_count": 2,
   "id": "d2ed562a",
   "metadata": {},
   "outputs": [
    {
     "data": {
      "text/html": [
       "<pre style=\"white-space:pre;overflow-x:auto;line-height:normal;font-family:Menlo,'DejaVu Sans Mono',consolas,'Courier New',monospace\">/opt/anaconda3/envs/safevision/lib/python3.10/site-packages/rich/live.py:231: UserWarning: install \"ipywidgets\" for\n",
       "Jupyter support\n",
       "  warnings.warn('install \"ipywidgets\" for Jupyter support')\n",
       "</pre>\n"
      ],
      "text/plain": [
       "/opt/anaconda3/envs/safevision/lib/python3.10/site-packages/rich/live.py:231: UserWarning: install \"ipywidgets\" for\n",
       "Jupyter support\n",
       "  warnings.warn('install \"ipywidgets\" for Jupyter support')\n"
      ]
     },
     "metadata": {},
     "output_type": "display_data"
    },
    {
     "data": {
      "text/html": [
       "<pre style=\"white-space:pre;overflow-x:auto;line-height:normal;font-family:Menlo,'DejaVu Sans Mono',consolas,'Courier New',monospace\">/opt/anaconda3/envs/safevision/lib/python3.10/site-packages/pyannote/audio/models/blocks/pooling.py:104: \n",
       "UserWarning: std(): degrees of freedom is &lt;= 0. Correction should be strictly less than the reduction factor (input\n",
       "numel divided by output numel). (Triggered internally at \n",
       "/Users/runner/work/pytorch/pytorch/pytorch/aten/src/ATen/native/ReduceOps.cpp:1839.)\n",
       "  std = sequences.std(dim=-1, correction=1)\n",
       "</pre>\n"
      ],
      "text/plain": [
       "/opt/anaconda3/envs/safevision/lib/python3.10/site-packages/pyannote/audio/models/blocks/pooling.py:104: \n",
       "UserWarning: std(): degrees of freedom is <= 0. Correction should be strictly less than the reduction factor (input\n",
       "numel divided by output numel). (Triggered internally at \n",
       "/Users/runner/work/pytorch/pytorch/pytorch/aten/src/ATen/native/ReduceOps.cpp:1839.)\n",
       "  std = sequences.std(dim=-1, correction=1)\n"
      ]
     },
     "metadata": {},
     "output_type": "display_data"
    },
    {
     "data": {
      "text/html": [
       "<pre style=\"white-space:pre;overflow-x:auto;line-height:normal;font-family:Menlo,'DejaVu Sans Mono',consolas,'Courier New',monospace\">/opt/anaconda3/envs/safevision/lib/python3.10/site-packages/torchaudio/_backend/soundfile_backend.py:71: \n",
       "UserWarning: The OPUS subtype is unknown to TorchAudio. As a result, the bits_per_sample attribute will be set to \n",
       "0. If you are seeing this warning, please report by opening an issue on github (after checking for existing/closed \n",
       "ones). You may otherwise ignore this warning.\n",
       "  warnings.warn(\n",
       "</pre>\n"
      ],
      "text/plain": [
       "/opt/anaconda3/envs/safevision/lib/python3.10/site-packages/torchaudio/_backend/soundfile_backend.py:71: \n",
       "UserWarning: The OPUS subtype is unknown to TorchAudio. As a result, the bits_per_sample attribute will be set to \n",
       "0. If you are seeing this warning, please report by opening an issue on github (after checking for existing/closed \n",
       "ones). You may otherwise ignore this warning.\n",
       "  warnings.warn(\n"
      ]
     },
     "metadata": {},
     "output_type": "display_data"
    },
    {
     "data": {
      "text/html": [
       "<pre style=\"white-space:pre;overflow-x:auto;line-height:normal;font-family:Menlo,'DejaVu Sans Mono',consolas,'Courier New',monospace\">/opt/anaconda3/envs/safevision/lib/python3.10/site-packages/rich/live.py:231: UserWarning: install \"ipywidgets\" for\n",
       "Jupyter support\n",
       "  warnings.warn('install \"ipywidgets\" for Jupyter support')\n",
       "</pre>\n"
      ],
      "text/plain": [
       "/opt/anaconda3/envs/safevision/lib/python3.10/site-packages/rich/live.py:231: UserWarning: install \"ipywidgets\" for\n",
       "Jupyter support\n",
       "  warnings.warn('install \"ipywidgets\" for Jupyter support')\n"
      ]
     },
     "metadata": {},
     "output_type": "display_data"
    },
    {
     "data": {
      "text/html": [
       "<pre style=\"white-space:pre;overflow-x:auto;line-height:normal;font-family:Menlo,'DejaVu Sans Mono',consolas,'Courier New',monospace\"></pre>\n"
      ],
      "text/plain": []
     },
     "metadata": {},
     "output_type": "display_data"
    }
   ],
   "source": [
    "s = SpeakerIdentifier()\n",
    "res = s.identify_speakers('data/4.wav')"
   ]
  },
  {
   "cell_type": "code",
   "execution_count": 6,
   "id": "51d821b9",
   "metadata": {},
   "outputs": [
    {
     "name": "stdout",
     "output_type": "stream",
     "text": [
      "[ 00:00:00.655 -->  00:00:02.393] A SPEAKER_00\n",
      "[ 00:00:02.612 -->  00:00:04.435] B SPEAKER_01\n",
      "[ 00:00:05.228 -->  00:00:06.983] C SPEAKER_00\n",
      "[ 00:00:07.388 -->  00:00:07.945] D SPEAKER_01\n"
     ]
    },
    {
     "data": {
      "image/png": "[encoded data removed]",
      "text/plain": [
       "<pyannote.core.annotation.Annotation at 0x333f5fd30>"
      ]
     },
     "execution_count": 6,
     "metadata": {},
     "output_type": "execute_result"
    }
   ],
   "source": [
    "print(res)\n",
    "res"
   ]
  },
  {
   "cell_type": "code",
   "execution_count": 14,
   "id": "b1a73b54",
   "metadata": {},
   "outputs": [
    {
     "name": "stdout",
     "output_type": "stream",
     "text": [
      "(<Segment(0.655344, 2.39347)>, 'A')\n"
     ]
    }
   ],
   "source": [
    "print(list(res.itertracks())[0])"
   ]
  },
  {
   "cell_type": "code",
   "execution_count": 22,
   "id": "7bd55bfa",
   "metadata": {},
   "outputs": [
    {
     "name": "stdout",
     "output_type": "stream",
     "text": [
      "0.65534375 2.3934687500000003\n",
      "2.61284375 4.4353437499999995\n",
      "5.228468750000001 6.98346875\n",
      "7.388468750000001 7.945343750000001\n"
     ]
    }
   ],
   "source": [
    "for s in res.itersegments():\n",
    "    print(s.start, s.end)"
   ]
  },
  {
   "cell_type": "code",
   "execution_count": 19,
   "id": "425ab338",
   "metadata": {},
   "outputs": [
    {
     "name": "stdout",
     "output_type": "stream",
     "text": [
      "[ 00:00:00.655 -->  00:00:02.393] A SPEAKER_00\n",
      "[ 00:00:02.612 -->  00:00:04.435] B SPEAKER_01\n",
      "[ 00:00:05.228 -->  00:00:06.983] C SPEAKER_00\n",
      "[ 00:00:07.388 -->  00:00:07.945] D SPEAKER_01\n"
     ]
    }
   ],
   "source": [
    "for segment, track, label in res.itertracks(yield_label=True):\n",
    "    print(segment, track, label)"
   ]
  }
 ],
 "metadata": {
  "kernelspec": {
   "display_name": "safevision",
   "language": "python",
   "name": "python3"
  },
  "language_info": {
   "codemirror_mode": {
    "name": "ipython",
    "version": 3
   },
   "file_extension": ".py",
   "mimetype": "text/x-python",
   "name": "python",
   "nbconvert_exporter": "python",
   "pygments_lexer": "ipython3",
   "version": "3.10.13"
  }
 },
 "nbformat": 4,
 "nbformat_minor": 5
}
